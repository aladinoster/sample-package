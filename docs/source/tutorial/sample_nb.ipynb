{
 "cells": [
  {
   "cell_type": "markdown",
   "metadata": {},
   "source": [
    "# Sample Package\n",
    "This is a tutorial"
   ]
  },
  {
   "cell_type": "code",
   "execution_count": 2,
   "metadata": {},
   "outputs": [
    {
     "name": "stdout",
     "output_type": "stream",
     "text": [
      "Message Hola notebook!\n"
     ]
    }
   ],
   "source": [
    "from sample_pkg.sample import SampleClass\n",
    "\n",
    "sample = SampleClass()\n",
    "sample.print(\"Hola notebook!\")"
   ]
  }
 ],
 "metadata": {
  "interpreter": {
   "hash": "87d9b575da79adc7d9dc8aff581d8c041e147658dc66af85ad675750d72539b4"
  },
  "kernelspec": {
   "display_name": "Python 3.9.7 64-bit ('sample-pkg': conda)",
   "name": "python3"
  },
  "language_info": {
   "codemirror_mode": {
    "name": "ipython",
    "version": 3
   },
   "file_extension": ".py",
   "mimetype": "text/x-python",
   "name": "python",
   "nbconvert_exporter": "python",
   "pygments_lexer": "ipython3",
   "version": "3.9.7"
  },
  "orig_nbformat": 4
 },
 "nbformat": 4,
 "nbformat_minor": 2
}
